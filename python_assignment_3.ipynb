{
  "nbformat": 4,
  "nbformat_minor": 0,
  "metadata": {
    "colab": {
      "name": "python-assignment-3.ipynb",
      "provenance": []
    },
    "kernelspec": {
      "name": "python3",
      "display_name": "Python 3"
    }
  },
  "cells": [
    {
      "cell_type": "markdown",
      "metadata": {
        "id": "SKnfHrHvwhtT"
      },
      "source": [
        "Write a Python Program to implement your own myreduce() function which works exactly\n",
        "like Python's built-in function reduce()"
      ]
    },
    {
      "cell_type": "code",
      "metadata": {
        "id": "5WMCySCK1kRq"
      },
      "source": [
        "from functools import reduce"
      ],
      "execution_count": 109,
      "outputs": []
    },
    {
      "cell_type": "code",
      "metadata": {
        "id": "jijl3IvH0XH1"
      },
      "source": [
        "def addition(a,b):\n",
        "  return a+b"
      ],
      "execution_count": 110,
      "outputs": []
    },
    {
      "cell_type": "code",
      "metadata": {
        "id": "58WHa7En0bBW"
      },
      "source": [
        "def myreduce(fun,sequence):\n",
        "  result=sequence[0]\n",
        "  for i in range(1,len(sequence)):\n",
        "    result=addition(result,sequence[i])\n",
        "  return result"
      ],
      "execution_count": 111,
      "outputs": []
    },
    {
      "cell_type": "code",
      "metadata": {
        "id": "6l12NShPwgNJ",
        "outputId": "2d05a959-e531-4e14-aa87-4d5f5af7441a",
        "colab": {
          "base_uri": "https://localhost:8080/",
          "height": 54
        }
      },
      "source": [
        "print('addition using myreduce function:',myreduce(addition,[5,10,3,4]))\n",
        "print('additon using in built reduce function:',reduce(addition,[5,10,3,4]))"
      ],
      "execution_count": 112,
      "outputs": [
        {
          "output_type": "stream",
          "text": [
            "addition using myreduce function: 22\n",
            "additon using in built reduce function: 22\n"
          ],
          "name": "stdout"
        }
      ]
    },
    {
      "cell_type": "markdown",
      "metadata": {
        "id": "_PrrDrvD2fgI"
      },
      "source": [
        "Write a Python program to implement your own myfilter() function which works exactly\n",
        "like Python's built-in function filter()"
      ]
    },
    {
      "cell_type": "code",
      "metadata": {
        "id": "Ird-3cCW1-FG"
      },
      "source": [
        "def is_even(a):\n",
        "  if a%2==0:\n",
        "    return True\n",
        "  else:\n",
        "    return False"
      ],
      "execution_count": 113,
      "outputs": []
    },
    {
      "cell_type": "code",
      "metadata": {
        "id": "aluFOKBo3TiQ"
      },
      "source": [
        "def myfilter(function,sequence):\n",
        "  even=[]\n",
        "  for i in sequence:\n",
        "   check=is_even(i)\n",
        "   if check==True:\n",
        "      even.append(i)\n",
        "  return even"
      ],
      "execution_count": 114,
      "outputs": []
    },
    {
      "cell_type": "code",
      "metadata": {
        "id": "jImdQHYh3-an",
        "outputId": "700cc9b9-aa6a-43df-fe42-172cebfa7a56",
        "colab": {
          "base_uri": "https://localhost:8080/",
          "height": 35
        }
      },
      "source": [
        "print('check if number is even using myfilter:',myfilter(is_even,[2,4,6,8.7]))"
      ],
      "execution_count": 115,
      "outputs": [
        {
          "output_type": "stream",
          "text": [
            "check if number is even using myfilter: [2, 4, 6]\n"
          ],
          "name": "stdout"
        }
      ]
    },
    {
      "cell_type": "code",
      "metadata": {
        "id": "j5iaqe845HlU",
        "outputId": "5f9f7314-4adf-4bd3-ae30-a21481dbb01e",
        "colab": {
          "base_uri": "https://localhost:8080/",
          "height": 72
        }
      },
      "source": [
        "#using in built function\n",
        "f=filter(is_even,[2,4,6,8.7])\n",
        "for i in f:\n",
        "  print(i)"
      ],
      "execution_count": 116,
      "outputs": [
        {
          "output_type": "stream",
          "text": [
            "2\n",
            "4\n",
            "6\n"
          ],
          "name": "stdout"
        }
      ]
    },
    {
      "cell_type": "markdown",
      "metadata": {
        "id": "3nPgZNhk532T"
      },
      "source": [
        "Implement List comprehensions to produce the following lists.Write List comprehensions to produce the following Lists.\n",
        "['x', 'xx', 'xxx', 'xxxx', 'y', 'yy', 'yyy', 'yyyy', 'z', 'zz', 'zzz', 'zzzz']\n",
        "['x', 'y', 'z', 'xx', 'yy', 'zz', 'xxx', 'yyy', 'zzz', 'xxxx', 'yyyy', 'zzzz']\n",
        "[[2], [3], [4], [3], [4], [5], [4], [5], [6]] [[2, 3, 4, 5], [3, 4, 5, 6],\n",
        "[4, 5, 6, 7], [5, 6, 7, 8]]\n",
        "[(1, 1), (2, 1), (3, 1), (1, 2), (2, 2), (3, 2), (1, 3), (2, 3), (3, 3)]"
      ]
    },
    {
      "cell_type": "code",
      "metadata": {
        "id": "e6m-FlXf5mjE",
        "outputId": "92f9c27e-838f-4960-9882-8f0f68cff662",
        "colab": {
          "base_uri": "https://localhost:8080/",
          "height": 35
        }
      },
      "source": [
        "#['x', 'xx', 'xxx', 'xxxx', 'y', 'yy', 'yyy', 'yyyy', 'z', 'zz', 'zzz', 'zzzz'] \n",
        "result=[i*j for j in ['x','y','z'] for i in range(1,5)]\n",
        "print(result)"
      ],
      "execution_count": 117,
      "outputs": [
        {
          "output_type": "stream",
          "text": [
            "['x', 'xx', 'xxx', 'xxxx', 'y', 'yy', 'yyy', 'yyyy', 'z', 'zz', 'zzz', 'zzzz']\n"
          ],
          "name": "stdout"
        }
      ]
    },
    {
      "cell_type": "code",
      "metadata": {
        "id": "P-Ge_toJ-bGs",
        "outputId": "6d1248e3-09e1-429f-b2ce-5a85d15132d1",
        "colab": {
          "base_uri": "https://localhost:8080/",
          "height": 35
        }
      },
      "source": [
        "#['x', 'y', 'z', 'xx', 'yy', 'zz', 'xxx', 'yyy', 'zzz', 'xxxx', 'yyyy', 'zzzz']\n",
        "result=[i*j for i in range(1,5) for j in ['x','y','z'] ]\n",
        "print(result)"
      ],
      "execution_count": 118,
      "outputs": [
        {
          "output_type": "stream",
          "text": [
            "['x', 'y', 'z', 'xx', 'yy', 'zz', 'xxx', 'yyy', 'zzz', 'xxxx', 'yyyy', 'zzzz']\n"
          ],
          "name": "stdout"
        }
      ]
    },
    {
      "cell_type": "code",
      "metadata": {
        "id": "z24u8TF2-vnN",
        "outputId": "63d6e4e3-8ee6-4ff5-afa0-3b2c49864c39",
        "colab": {
          "base_uri": "https://localhost:8080/",
          "height": 35
        }
      },
      "source": [
        "#[[2], [3], [4], [3], [4], [5], [4], [5], [6]] \n",
        "result=[[i+j] for i in [2,3,4] for j in range(3)]\n",
        "print(result)"
      ],
      "execution_count": 119,
      "outputs": [
        {
          "output_type": "stream",
          "text": [
            "[[2], [3], [4], [3], [4], [5], [4], [5], [6]]\n"
          ],
          "name": "stdout"
        }
      ]
    },
    {
      "cell_type": "code",
      "metadata": {
        "id": "T2EheFdE_Jrj",
        "outputId": "1c4b2dd8-6f97-41ee-bc6b-2bc57aae3383",
        "colab": {
          "base_uri": "https://localhost:8080/",
          "height": 35
        }
      },
      "source": [
        "#[[2, 3, 4, 5], [3, 4, 5, 6],[4, 5, 6, 7], [5, 6, 7, 8]]\n",
        "list1=[2,3,4,5]\n",
        "result=[[i+j for i in list1]for j in range(4)]\n",
        "print(result)"
      ],
      "execution_count": 120,
      "outputs": [
        {
          "output_type": "stream",
          "text": [
            "[[2, 3, 4, 5], [3, 4, 5, 6], [4, 5, 6, 7], [5, 6, 7, 8]]\n"
          ],
          "name": "stdout"
        }
      ]
    },
    {
      "cell_type": "code",
      "metadata": {
        "id": "7KsVXhyJAMCr",
        "outputId": "575eb7fa-c528-4706-800e-ac7ebec434bf",
        "colab": {
          "base_uri": "https://localhost:8080/",
          "height": 35
        }
      },
      "source": [
        "#[(1, 1), (2, 1), (3, 1), (1, 2), (2, 2), (3, 2), (1, 3), (2, 3), (3, 3)]\n",
        "result=[(i,j) for j in range(1,4) for i in range(1,4)]\n",
        "print(result)"
      ],
      "execution_count": 121,
      "outputs": [
        {
          "output_type": "stream",
          "text": [
            "[(1, 1), (2, 1), (3, 1), (1, 2), (2, 2), (3, 2), (1, 3), (2, 3), (3, 3)]\n"
          ],
          "name": "stdout"
        }
      ]
    }
  ]
}